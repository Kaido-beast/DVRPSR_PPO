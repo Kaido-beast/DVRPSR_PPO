{
 "cells": [
  {
   "cell_type": "code",
   "execution_count": 2,
   "id": "703636c8",
   "metadata": {},
   "outputs": [],
   "source": [
    "import torch\n",
    "import random\n",
    "import math\n",
    "from torch.utils.data import Dataset\n",
    "\n",
    "import pandas as pd\n",
    "import numpy as np\n",
    "import networkx as nx\n",
    "import sys\n"
   ]
  },
  {
   "cell_type": "code",
   "execution_count": 56,
   "id": "d503e3dc",
   "metadata": {},
   "outputs": [],
   "source": [
    "class DVRPSR_Dataset(Dataset):\n",
    "\n",
    "    customer_feature = 4 # customer features location (x_i,y_i) and duration of service(d), appearance (u)\n",
    "\n",
    "    @classmethod\n",
    "    def create_data(cls,\n",
    "                    batch_size = 2,\n",
    "                    vehicle_count = 2,\n",
    "                    vehicle_speed = 20, # km/hr\n",
    "                    Lambda = 0.025, # request rate per min\n",
    "                    dod = 0.5,\n",
    "                    horizon = 400,\n",
    "                    fDmean = 10,\n",
    "                    fDstd = 2.5):\n",
    "\n",
    "\n",
    "        # static customer counts V = Lambda*horizon*(1-dod)/(dod+0.5)\n",
    "        V_static = int(Lambda*horizon*(1-dod)/(dod)+0.5)\n",
    "\n",
    "        # total customer count\n",
    "        V = int(Lambda*horizon/(dod) + 0.5)\n",
    "\n",
    "        size = (batch_size, V, 1)\n",
    "        \n",
    "        # initialize the graph of vienna network\n",
    "        graph = cls.initialize_graph()\n",
    "\n",
    "        # get the coordinates of customers\n",
    "        data_vienna = pd.read_csv('vienna_cordinates.csv')\n",
    "\n",
    "        # get depot coordinates: Id, xcoords, ycoords\n",
    "        depot = cls.get_depot_location(data_vienna)\n",
    "\n",
    "        # get location of customers: id, xcoords, ycoords\n",
    "        locations = cls.get_customers_coordinates(data_vienna, batch_size, V, depot)\n",
    "\n",
    "        # get edges index and attributes, which is distance between one node to others n_i*n_j\n",
    "        edges_index, edges_attributes = cls.get_edges_attributes(batch_size, graph, depot, locations, V)\n",
    "        \n",
    "        ### generate Static_Dynamic customer requests\n",
    "        dynamic_request = cls.generateRandomDynamicRequests(batch_size,\n",
    "                                                            V,\n",
    "                                                            V_static,\n",
    "                                                            fDmean,\n",
    "                                                            fDstd,\n",
    "                                                            Lambda,\n",
    "                                                            horizon)\n",
    "\n",
    "        customers = torch.zeros((batch_size,V,cls.customer_feature))\n",
    "        customers[:,:,:2] = locations[:,:,1:]\n",
    "        customers[:,:,2:4] = dynamic_request\n",
    "\n",
    "\n",
    "\n",
    "        depo = torch.zeros((batch_size, 1, cls.customer_feature))\n",
    "        depo[:,:,0:2] = torch.from_numpy(depot[0][1:])\n",
    "        depo[:,:,2] =  0\n",
    "\n",
    "        nodes = torch.cat((depo, customers), 1)\n",
    "        \n",
    "        dataset = cls(vehicle_count, vehicle_speed, horizon, nodes, V, \n",
    "                      edges_index, edges_attributes, customer_mask = None)\n",
    "        \n",
    "        return dataset\n",
    "    \n",
    "    def __init__(self, vehicle_count, vehicle_speed, horizon, nodes, V,\n",
    "                 edges_index, edges_attributes, customer_mask=None):\n",
    "        \n",
    "        self.vehicle_count = vehicle_count\n",
    "        self.vehicle_speed = vehicle_speed\n",
    "        self.nodes = nodes\n",
    "        self.vehicle_time_budget = horizon\n",
    "        self.edges_index = edges_index\n",
    "        self.edges_attributes = edges_attributes\n",
    "\n",
    "        self.batch_size, self.nodes_count, d = self.nodes.size()\n",
    "\n",
    "        if d!= self.customer_feature:\n",
    "            raise ValueError(\"Expected {} customer features per nodes, got {}\".format(\n",
    "                self.customer_feature, d))\n",
    "\n",
    "        self.customer_mask = customer_mask\n",
    "        self.customer_count = V\n",
    "        \n",
    "        \n",
    "    def initialize_graph():\n",
    "    \n",
    "        coordinates = pd.read_csv(\"vienna_dist.csv\", header = None, sep=' ')\n",
    "        coordinates.columns = ['coord1','coord2','dist']\n",
    "        graph = nx.DiGraph()\n",
    "\n",
    "        # add the rows to the graph for shortest path and distance calculations\n",
    "        for _, row in coordinates.iterrows():\n",
    "            graph.add_edge(row['coord1'], row['coord2'], weight=row['dist'])\n",
    "\n",
    "        return graph\n",
    "\n",
    "\n",
    "    def precompute_shortest_path(graph, start_node, end_node):\n",
    "\n",
    "        shortest_path = nx.shortest_path(graph, start_node, end_node)\n",
    "\n",
    "        # TODO: distance need to be normalized afterwords\n",
    "        shortest_path_length = sum(graph.get_edge_data(u, v)['weight'] \n",
    "                                   for u, v in zip(shortest_path, shortest_path[1:]))\n",
    "\n",
    "        return shortest_path, shortest_path_length \n",
    "    \n",
    "    \n",
    "    def get_distanceLL(lat1, lon1, lat2, lon2):\n",
    "    \n",
    "        R = 6371  # Radius of the Earth in kilometers\n",
    "\n",
    "        lat1_rad = math.radians(lat1)\n",
    "        lon1_rad = math.radians(lon1)\n",
    "        lat2_rad = math.radians(lat2)\n",
    "        lon2_rad = math.radians(lon2)\n",
    "\n",
    "        dlat = lat2_rad - lat1_rad\n",
    "        dlon = lon2_rad - lon1_rad\n",
    "\n",
    "        a = math.sin(dlat / 2) ** 2 + math.cos(lat1_rad) * math.cos(lat2_rad) * math.sin(dlon / 2) ** 2\n",
    "        c = 2 * math.atan2(math.sqrt(a), math.sqrt(1 - a))\n",
    "        distance = R * c\n",
    "        return distance\n",
    "    \n",
    "\n",
    "    def get_NearestNodeLL(lat, lon, lats, lons):\n",
    "        nearest = (-1, sys.float_info.max)\n",
    "        for i in range(len(lats)):\n",
    "            dist = DVRPSR_Dataset.get_distanceLL(lat, lon, lats[i], lons[i])\n",
    "            if dist < nearest[1]:\n",
    "                nearest = (i, dist)\n",
    "        return nearest[0]\n",
    "    \n",
    "\n",
    "\n",
    "    def get_depot_location(data_vienna):\n",
    "\n",
    "        ll = (48.178808, 16.438460)\n",
    "        lat = ll[0] / 180 * math.pi\n",
    "        lon = ll[1] / 180 * math.pi\n",
    "        lats = data_vienna['lats']\n",
    "        lons = data_vienna['lons']\n",
    "        depot = DVRPSR_Dataset.get_NearestNodeLL(lat, lon, lats, lons)\n",
    "        depot_coordinates = np.array(data_vienna[data_vienna['id']==depot][['id','xcoords', 'ycoords']])\n",
    "\n",
    "        return depot_coordinates\n",
    "    \n",
    "    def get_customers_coordinates(data_vienna, batch_size, customers_count, depot):\n",
    "        \n",
    "        torch.manual_seed(42)\n",
    "\n",
    "        # Excluding depot id from the customers selection\n",
    "        data_vienna_without_depot = data_vienna[data_vienna['id'] != int(depot[0][0])].reset_index()\n",
    "\n",
    "        # Sample customers indices for all batches at once\n",
    "        sampled_customers = torch.multinomial(torch.tensor(data_vienna_without_depot['id'], dtype=torch.float),\n",
    "                                              num_samples=batch_size * customers_count, replacement=True)\n",
    "        \n",
    "        sampled_customers = sampled_customers.reshape(batch_size, customers_count)\n",
    "\n",
    "        # Gather the sampled locations using the indices\n",
    "        sampled_locations = data_vienna_without_depot.loc[sampled_customers.flatten()].reset_index(drop=True)\n",
    "\n",
    "        # Reshape the locations to match the batch size\n",
    "        locations = sampled_locations.groupby(sampled_locations.index // customers_count)\n",
    "\n",
    "        # Create PyTorch tensors for the batched data\n",
    "        locations_tensors = []\n",
    "        for _, batch in locations:\n",
    "            id_tensor = torch.tensor(batch['id'].values, dtype=torch.long)\n",
    "            coords_tensor = torch.tensor(batch[['xcoords', 'ycoords']].values, dtype=torch.float)\n",
    "            batch_tensor = torch.cat((id_tensor.unsqueeze(1), coords_tensor), dim=1)\n",
    "            locations_tensors.append(batch_tensor)\n",
    "\n",
    "        return torch.stack(locations_tensors)\n",
    "    \n",
    "    def c_dist(x1,x2):\n",
    "        return ((x1[0]-x2[0])**2+(x1[1]-x2[1])**2)**0.5\n",
    "    \n",
    "    def get_edges_attributes(batch_size, graph, depot, locations, V):\n",
    "    \n",
    "        # all customers ID inclusing depot\n",
    "        \n",
    "        print('Initialzing edges')\n",
    "        edge_depot = torch.zeros((batch_size, 1, 2))\n",
    "        edge_depot[:,:,0] = depot[0][1]\n",
    "        edge_depot[:,:,1] = depot[0][2]\n",
    "        edge_data = torch.cat((edge_depot, locations[:,:,1:3]), dim=1)\n",
    "\n",
    "        # generate edge index\n",
    "        edges_index = []\n",
    "\n",
    "        for i in range(V+1):\n",
    "            for j in range(V+1):\n",
    "                edges_index.append([i, j])\n",
    "        edges_index = torch.LongTensor(edges_index)\n",
    "        edges_index = edges_index.transpose(dim0=0,dim1=1)\n",
    "\n",
    "        # generate nodes attributes\n",
    "        edges_batch = []\n",
    "\n",
    "        for batch in edge_data:\n",
    "            edges = np.zeros((V+1, V+1, 1))\n",
    "            for i, node1 in enumerate(batch):\n",
    "                for j, node2 in enumerate(batch):\n",
    "                    distance = DVRPSR_Dataset.c_dist(node1, node2)\n",
    "                    edges[i][j][0] = distance\n",
    "\n",
    "            edges = edges.reshape(-1, 1)\n",
    "            edges_batch.append(torch.from_numpy(edges))\n",
    "\n",
    "        return edges_index, torch.stack(edges_batch)\n",
    "    \n",
    "    \n",
    "    def generateRandomDynamicRequests(batch_size=2 ,\n",
    "                                      V=20,\n",
    "                                      V_static=10,\n",
    "                                      fDmean=10,\n",
    "                                      fDstd=2.5,\n",
    "                                      Lambda=0.025,\n",
    "                                      horizon=400,\n",
    "                                      dep = 0,\n",
    "                                      u = 0):\n",
    "        gen = random.Random()\n",
    "        gen.seed() # uses the default system seed\n",
    "        unifDist = gen.random # uniform distribution\n",
    "        durDist = lambda: max(0.01, gen.gauss(fDmean, fDstd)) # normal distribution with fDmean and fDstd\n",
    "\n",
    "        # TODO: in actual data , we need to add a depo node with corrdinate, which should be removed from selected\n",
    "        #       nodes as well.\n",
    "\n",
    "        requests = []\n",
    "        for b in range(batch_size):\n",
    "\n",
    "            static_request = []\n",
    "            dynamic_request = []\n",
    "            u = 0\n",
    "\n",
    "            while True:\n",
    "                unif = unifDist()\n",
    "                u += -(1/Lambda) * math.log(unif)\n",
    "                if u > horizon or len(dynamic_request) > (V-V_static+2):\n",
    "                    break\n",
    "                d = round(durDist(),2)\n",
    "                while d<=0:\n",
    "                    d = round(durDist(),2)\n",
    "\n",
    "                dynamic_request.append([d, round(u,2)])\n",
    "\n",
    "            for j in range(V-len(dynamic_request)):\n",
    "                d = round(durDist(),2)\n",
    "                while d<=0:\n",
    "                    d = round(durDist(),2)\n",
    "                static_request.append([d,0])\n",
    "\n",
    "            request = static_request+dynamic_request\n",
    "            random.shuffle(request)\n",
    "            requests.append(request)\n",
    "\n",
    "        return torch.tensor(requests)\n",
    "    \n",
    "    \n",
    "\n",
    "    \n",
    "    def __len__(self):\n",
    "        return self.batch_size\n",
    "\n",
    "\n",
    "    def __getitem__(self, i):\n",
    "        if self.customer_mask is None:\n",
    "            return self.nodes[i]\n",
    "        else:\n",
    "            return self.nodes[i], self.customer_mask[i]\n",
    "\n",
    "    def nodes_generate(self):\n",
    "        if self.customer_mask is None:\n",
    "            yield from self.nodes\n",
    "        else:\n",
    "            yield from (n[m^1] for n,m in zip(self.nodes, self.customer_mask))  \n",
    "            \n",
    "            \n",
    "    def normalize(self):\n",
    "        loc_max, loc_min = self.nodes[:,:,:2].max().item(), self.nodes[:,:,:2].min().item()\n",
    "        loc_max -= loc_min\n",
    "        edge_max_length = self.edges_attributes[:,:,0].max().item()\n",
    "\n",
    "        self.nodes[:,:,:2] -= loc_min\n",
    "        self.nodes[:,:,:2] /= loc_max\n",
    "        self.nodes[:,:,2:] /=self.vehicle_time_budget\n",
    "\n",
    "        self.vehicle_speed *= self.vehicle_time_budget/edge_max_length\n",
    "        self.vehicle_time_budget = 1\n",
    "        self.edges_attributes /= edge_max_length\n",
    "        return loc_max, 1\n",
    "\n",
    "    def save(self, folder_path):\n",
    "        torch.save({\n",
    "            'veh_count':self.vehicle_count,\n",
    "            'veh_speed':self.vehicle_speed,\n",
    "            'nodes':self.nodes,\n",
    "            'edges_index':self.edges_index,\n",
    "            'edges_attributes':self.edges_attributes,\n",
    "            'customer_count':self.customer_count,\n",
    "            'customer_mask':self.customer_mask\n",
    "        }, folder_path)\n",
    "\n",
    "    @classmethod\n",
    "    def load(cls, folder_path):\n",
    "        return cls(**torch.load(folder_path))\n",
    "        \n",
    "        \n",
    "        \n",
    "        "
   ]
  },
  {
   "cell_type": "code",
   "execution_count": 68,
   "id": "9250dd47",
   "metadata": {},
   "outputs": [
    {
     "name": "stdout",
     "output_type": "stream",
     "text": [
      "Initialzing edges\n"
     ]
    }
   ],
   "source": [
    "data = DVRPSR_Dataset.create_data(batch_size=4, vehicle_count=2,vehicle_speed=1/3, Lambda=0.2, dod=0.75, horizon=600)"
   ]
  },
  {
   "cell_type": "markdown",
   "id": "9afd90e2",
   "metadata": {},
   "source": [
    "## Environment"
   ]
  },
  {
   "cell_type": "code",
   "execution_count": 69,
   "id": "243c08c8",
   "metadata": {},
   "outputs": [],
   "source": [
    " # reset vehicle (minibatch*veh_count*veh_feature)\n",
    "    \n",
    "minibatch = 4\n",
    "vehicle_count = 2\n",
    "vehicle_feature = 8\n",
    "customer_feature = 4\n",
    "vehicle_budget = 400\n",
    "init_cust_mask = None\n",
    "nodes_count = 161\n",
    "customer_size = 161"
   ]
  },
  {
   "cell_type": "code",
   "execution_count": 70,
   "id": "d4926749",
   "metadata": {},
   "outputs": [],
   "source": [
    "distance_mat = data.edges_attributes.view((minibatch, customer_size, customer_size))"
   ]
  },
  {
   "cell_type": "code",
   "execution_count": 79,
   "id": "6905a602",
   "metadata": {},
   "outputs": [],
   "source": [
    "\n",
    "\n",
    "nodes = data.nodes\n",
    "\n",
    "vehicles = nodes.new_zeros((minibatch, vehicle_count, vehicle_feature))\n",
    "vehicles[:, :, :2] = data.nodes[:, :1, :2]\n",
    "vehicles[:, :, 2] = data.vehicle_time_budget\n",
    "\n",
    "\n",
    "# reset vehicle done\n",
    "veh_done = nodes.new_zeros((minibatch, vehicle_count), dtype=torch.bool)\n",
    "done = False\n",
    "\n",
    "# reset cust_mask\n",
    "customer_mask = nodes[:, :, 3] > 0\n",
    "if init_cust_mask is not None:\n",
    "    customer_mask = customer_mask | init_cust_mask\n",
    "\n",
    "# reset new customers and served customer since now to zero (all false)\n",
    "new_customer = True\n",
    "served = torch.zeros_like(customer_mask)\n",
    "\n",
    "# reset mask (minibatch*veh_count*nodes)\n",
    "mask = customer_mask[:, None, :].repeat(1, vehicle_count, 1)\n",
    "\n",
    "# reset current vehicle idx, current vehicle, current vehicle mask\n",
    "current_vehicle_index = nodes.new_zeros((minibatch, 1), dtype=torch.int64)\n",
    "current_vehicle = vehicles.gather(1, current_vehicle_index[:, :, None].expand(-1, -1, vehicle_feature))\n",
    "current_vehicle_mask = mask.gather(1, current_vehicle_index[:, :, None].expand(-1, -1, nodes_count))"
   ]
  },
  {
   "cell_type": "code",
   "execution_count": 80,
   "id": "a0764f58",
   "metadata": {},
   "outputs": [],
   "source": [
    "customer_index = torch.tensor([[4],[5],[2],[3]])\n",
    "dest = nodes.gather(1, customer_index[:, :, None].expand(-1, -1, customer_feature))\n",
    "current_vehicle[:,:,5] = customer_index\n",
    "\n",
    "dist = torch.zeros((minibatch, 1))\n",
    "for i in range(minibatch):\n",
    "    dist[i,0] = distance_mat[i][int(current_vehicle[i,:,4])][int(current_vehicle[i,:,5])]\n",
    "    \n"
   ]
  },
  {
   "cell_type": "code",
   "execution_count": 82,
   "id": "670e3c5d",
   "metadata": {},
   "outputs": [
    {
     "data": {
      "text/plain": [
       "tensor([[27.7970],\n",
       "        [27.5712],\n",
       "        [19.1865],\n",
       "        [47.4011]])"
      ]
     },
     "execution_count": 82,
     "metadata": {},
     "output_type": "execute_result"
    }
   ],
   "source": [
    "dist"
   ]
  },
  {
   "cell_type": "code",
   "execution_count": 83,
   "id": "12843905",
   "metadata": {},
   "outputs": [
    {
     "data": {
      "text/plain": [
       "tensor([[[153.4832,  -2.7868, 600.0000,   0.0000,   0.0000,   4.0000,   0.0000,\n",
       "            0.0000]],\n",
       "\n",
       "        [[153.4832,  -2.7868, 600.0000,   0.0000,   0.0000,   5.0000,   0.0000,\n",
       "            0.0000]],\n",
       "\n",
       "        [[153.4832,  -2.7868, 600.0000,   0.0000,   0.0000,   2.0000,   0.0000,\n",
       "            0.0000]],\n",
       "\n",
       "        [[153.4832,  -2.7868, 600.0000,   0.0000,   0.0000,   3.0000,   0.0000,\n",
       "            0.0000]]])"
      ]
     },
     "execution_count": 83,
     "metadata": {},
     "output_type": "execute_result"
    }
   ],
   "source": [
    "current_vehicle"
   ]
  },
  {
   "cell_type": "code",
   "execution_count": 204,
   "id": "c8f813cb",
   "metadata": {},
   "outputs": [
    {
     "data": {
      "text/plain": [
       "tensor([[27.7970],\n",
       "        [34.0259],\n",
       "        [34.1713]])"
      ]
     },
     "execution_count": 204,
     "metadata": {},
     "output_type": "execute_result"
    }
   ],
   "source": [
    "dist_pair = torch.pairwise_distance(current_vehicle[:, 0, :2], dest[:, 0, :2], keepdim=True)\n",
    "dist_pair\n"
   ]
  },
  {
   "cell_type": "code",
   "execution_count": 205,
   "id": "bdf51e3c",
   "metadata": {},
   "outputs": [
    {
     "data": {
      "text/plain": [
       "tensor([[[153.4832,  -2.7868, 400.0000,   0.0000,   4.0000,   4.0000,   0.0000,\n",
       "            0.0000]],\n",
       "\n",
       "        [[153.4832,  -2.7868, 400.0000,   0.0000,   5.0000,   5.0000,   0.0000,\n",
       "            0.0000]],\n",
       "\n",
       "        [[153.4832,  -2.7868, 400.0000,   0.0000,   2.0000,   2.0000,   0.0000,\n",
       "            0.0000]]])"
      ]
     },
     "execution_count": 205,
     "metadata": {},
     "output_type": "execute_result"
    }
   ],
   "source": [
    "current_vehicle"
   ]
  },
  {
   "cell_type": "code",
   "execution_count": 74,
   "id": "c8704e10",
   "metadata": {},
   "outputs": [],
   "source": [
    "cost = torch.zeros((minibatch, customer_size,1))\n",
    "for i in range(minibatch):\n",
    "    for j in range(customer_size):\n",
    "        dist_vehicle_customer_depot = distance_mat[i][int(current_vehicle[i, :, 4])][j] + \\\n",
    "                                      distance_mat[i][j][0]\n",
    "        cost[i,j] = dist_vehicle_customer_depot"
   ]
  },
  {
   "cell_type": "code",
   "execution_count": 85,
   "id": "b73abcbe",
   "metadata": {},
   "outputs": [
    {
     "data": {
      "text/plain": [
       "torch.Size([4, 161, 1])"
      ]
     },
     "execution_count": 85,
     "metadata": {},
     "output_type": "execute_result"
    }
   ],
   "source": [
    "cost.size()"
   ]
  },
  {
   "cell_type": "code",
   "execution_count": 78,
   "id": "8701f0d3",
   "metadata": {},
   "outputs": [
    {
     "data": {
      "text/plain": [
       "tensor([[[153.4832,  -2.7868, 600.0000,   0.0000,   4.0000,   0.0000,   0.0000,\n",
       "            0.0000]],\n",
       "\n",
       "        [[153.4832,  -2.7868, 600.0000,   0.0000,   5.0000,   0.0000,   0.0000,\n",
       "            0.0000]],\n",
       "\n",
       "        [[153.4832,  -2.7868, 600.0000,   0.0000,   2.0000,   0.0000,   0.0000,\n",
       "            0.0000]],\n",
       "\n",
       "        [[153.4832,  -2.7868, 600.0000,   0.0000,   3.0000,   0.0000,   0.0000,\n",
       "            0.0000]]])"
      ]
     },
     "execution_count": 78,
     "metadata": {},
     "output_type": "execute_result"
    }
   ],
   "source": [
    "current_vehicle"
   ]
  },
  {
   "cell_type": "code",
   "execution_count": null,
   "id": "bbf89938",
   "metadata": {},
   "outputs": [],
   "source": []
  },
  {
   "cell_type": "code",
   "execution_count": null,
   "id": "bb2ec269",
   "metadata": {},
   "outputs": [],
   "source": []
  },
  {
   "cell_type": "code",
   "execution_count": null,
   "id": "8714fd69",
   "metadata": {},
   "outputs": [],
   "source": []
  },
  {
   "cell_type": "code",
   "execution_count": null,
   "id": "7a373cd3",
   "metadata": {},
   "outputs": [],
   "source": []
  },
  {
   "cell_type": "code",
   "execution_count": null,
   "id": "6fce1bd1",
   "metadata": {},
   "outputs": [],
   "source": []
  },
  {
   "cell_type": "code",
   "execution_count": null,
   "id": "f74a3c94",
   "metadata": {},
   "outputs": [],
   "source": []
  },
  {
   "cell_type": "code",
   "execution_count": null,
   "id": "6c0ffad0",
   "metadata": {},
   "outputs": [],
   "source": []
  },
  {
   "cell_type": "code",
   "execution_count": null,
   "id": "a0f414d9",
   "metadata": {},
   "outputs": [],
   "source": []
  },
  {
   "cell_type": "code",
   "execution_count": null,
   "id": "cb67268b",
   "metadata": {},
   "outputs": [],
   "source": []
  }
 ],
 "metadata": {
  "kernelspec": {
   "display_name": "Python 3 (ipykernel)",
   "language": "python",
   "name": "python3"
  },
  "language_info": {
   "codemirror_mode": {
    "name": "ipython",
    "version": 3
   },
   "file_extension": ".py",
   "mimetype": "text/x-python",
   "name": "python",
   "nbconvert_exporter": "python",
   "pygments_lexer": "ipython3",
   "version": "3.10.9"
  }
 },
 "nbformat": 4,
 "nbformat_minor": 5
}
