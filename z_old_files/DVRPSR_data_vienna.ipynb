{
 "cells": [
  {
   "cell_type": "code",
   "execution_count": 59,
   "id": "17092ae8",
   "metadata": {},
   "outputs": [],
   "source": [
    "import pandas as pd\n",
    "import numpy as np\n",
    "import networkx as nx"
   ]
  },
  {
   "cell_type": "code",
   "execution_count": 69,
   "id": "dcae2ced",
   "metadata": {},
   "outputs": [],
   "source": [
    "nodes = pd.read_csv(\"vienna_nodes.csv\", sep=';')\n",
    "coordinates = pd.read_csv(\"vienna_dist.csv\", header = None, sep=' ')"
   ]
  },
  {
   "cell_type": "code",
   "execution_count": 85,
   "id": "25d0d0ae",
   "metadata": {},
   "outputs": [
    {
     "data": {
      "text/html": [
       "<div>\n",
       "<style scoped>\n",
       "    .dataframe tbody tr th:only-of-type {\n",
       "        vertical-align: middle;\n",
       "    }\n",
       "\n",
       "    .dataframe tbody tr th {\n",
       "        vertical-align: top;\n",
       "    }\n",
       "\n",
       "    .dataframe thead th {\n",
       "        text-align: right;\n",
       "    }\n",
       "</style>\n",
       "<table border=\"1\" class=\"dataframe\">\n",
       "  <thead>\n",
       "    <tr style=\"text-align: right;\">\n",
       "      <th></th>\n",
       "      <th>nodes</th>\n",
       "      <th>x</th>\n",
       "      <th>y</th>\n",
       "    </tr>\n",
       "  </thead>\n",
       "  <tbody>\n",
       "    <tr>\n",
       "      <th>16075</th>\n",
       "      <td>16075</td>\n",
       "      <td>0.842712</td>\n",
       "      <td>0.287939</td>\n",
       "    </tr>\n",
       "    <tr>\n",
       "      <th>16076</th>\n",
       "      <td>16076</td>\n",
       "      <td>0.842689</td>\n",
       "      <td>0.287915</td>\n",
       "    </tr>\n",
       "    <tr>\n",
       "      <th>16077</th>\n",
       "      <td>16077</td>\n",
       "      <td>0.842687</td>\n",
       "      <td>0.287919</td>\n",
       "    </tr>\n",
       "    <tr>\n",
       "      <th>16078</th>\n",
       "      <td>16078</td>\n",
       "      <td>0.841141</td>\n",
       "      <td>0.284234</td>\n",
       "    </tr>\n",
       "    <tr>\n",
       "      <th>16079</th>\n",
       "      <td>16079</td>\n",
       "      <td>0.841437</td>\n",
       "      <td>0.283093</td>\n",
       "    </tr>\n",
       "  </tbody>\n",
       "</table>\n",
       "</div>"
      ],
      "text/plain": [
       "       nodes         x         y\n",
       "16075  16075  0.842712  0.287939\n",
       "16076  16076  0.842689  0.287915\n",
       "16077  16077  0.842687  0.287919\n",
       "16078  16078  0.841141  0.284234\n",
       "16079  16079  0.841437  0.283093"
      ]
     },
     "execution_count": 85,
     "metadata": {},
     "output_type": "execute_result"
    }
   ],
   "source": [
    "nodes.tail()"
   ]
  },
  {
   "cell_type": "code",
   "execution_count": 86,
   "id": "decaddf2",
   "metadata": {},
   "outputs": [
    {
     "name": "stdout",
     "output_type": "stream",
     "text": [
      "<class 'pandas.core.frame.DataFrame'>\n",
      "RangeIndex: 16080 entries, 0 to 16079\n",
      "Data columns (total 3 columns):\n",
      " #   Column  Non-Null Count  Dtype  \n",
      "---  ------  --------------  -----  \n",
      " 0   nodes   16080 non-null  int64  \n",
      " 1   x       16080 non-null  float64\n",
      " 2   y       16080 non-null  float64\n",
      "dtypes: float64(2), int64(1)\n",
      "memory usage: 377.0 KB\n"
     ]
    }
   ],
   "source": [
    "nodes.info()"
   ]
  },
  {
   "cell_type": "code",
   "execution_count": 70,
   "id": "817f9bcb",
   "metadata": {},
   "outputs": [
    {
     "data": {
      "text/html": [
       "<div>\n",
       "<style scoped>\n",
       "    .dataframe tbody tr th:only-of-type {\n",
       "        vertical-align: middle;\n",
       "    }\n",
       "\n",
       "    .dataframe tbody tr th {\n",
       "        vertical-align: top;\n",
       "    }\n",
       "\n",
       "    .dataframe thead th {\n",
       "        text-align: right;\n",
       "    }\n",
       "</style>\n",
       "<table border=\"1\" class=\"dataframe\">\n",
       "  <thead>\n",
       "    <tr style=\"text-align: right;\">\n",
       "      <th></th>\n",
       "      <th>coord1</th>\n",
       "      <th>coord2</th>\n",
       "      <th>dist</th>\n",
       "    </tr>\n",
       "  </thead>\n",
       "  <tbody>\n",
       "    <tr>\n",
       "      <th>0</th>\n",
       "      <td>0</td>\n",
       "      <td>1367</td>\n",
       "      <td>112.736160</td>\n",
       "    </tr>\n",
       "    <tr>\n",
       "      <th>1</th>\n",
       "      <td>0</td>\n",
       "      <td>10445</td>\n",
       "      <td>176.062978</td>\n",
       "    </tr>\n",
       "    <tr>\n",
       "      <th>2</th>\n",
       "      <td>1</td>\n",
       "      <td>12881</td>\n",
       "      <td>92.183050</td>\n",
       "    </tr>\n",
       "    <tr>\n",
       "      <th>3</th>\n",
       "      <td>1</td>\n",
       "      <td>2676</td>\n",
       "      <td>16.391515</td>\n",
       "    </tr>\n",
       "    <tr>\n",
       "      <th>4</th>\n",
       "      <td>2</td>\n",
       "      <td>2664</td>\n",
       "      <td>173.987554</td>\n",
       "    </tr>\n",
       "  </tbody>\n",
       "</table>\n",
       "</div>"
      ],
      "text/plain": [
       "   coord1  coord2        dist\n",
       "0       0    1367  112.736160\n",
       "1       0   10445  176.062978\n",
       "2       1   12881   92.183050\n",
       "3       1    2676   16.391515\n",
       "4       2    2664  173.987554"
      ]
     },
     "execution_count": 70,
     "metadata": {},
     "output_type": "execute_result"
    }
   ],
   "source": [
    "coordinates.columns = ['coord1','coord2','dist']\n",
    "coordinates.head()"
   ]
  },
  {
   "cell_type": "code",
   "execution_count": 71,
   "id": "45c1ee37",
   "metadata": {},
   "outputs": [
    {
     "name": "stdout",
     "output_type": "stream",
     "text": [
      "<class 'pandas.core.frame.DataFrame'>\n",
      "RangeIndex: 36424 entries, 0 to 36423\n",
      "Data columns (total 3 columns):\n",
      " #   Column  Non-Null Count  Dtype  \n",
      "---  ------  --------------  -----  \n",
      " 0   coord1  36424 non-null  int64  \n",
      " 1   coord2  36424 non-null  int64  \n",
      " 2   dist    36424 non-null  float64\n",
      "dtypes: float64(1), int64(2)\n",
      "memory usage: 853.8 KB\n"
     ]
    }
   ],
   "source": [
    "coordinates.info()"
   ]
  },
  {
   "cell_type": "code",
   "execution_count": 74,
   "id": "9b38df49",
   "metadata": {},
   "outputs": [],
   "source": [
    "graph = nx.DiGraph()\n",
    "\n",
    "for _, row in coordinates.iterrows():\n",
    "    graph.add_edge(row['coord1'], row['coord2'], weight=row['dist'])"
   ]
  },
  {
   "cell_type": "code",
   "execution_count": 75,
   "id": "a3fa2630",
   "metadata": {},
   "outputs": [],
   "source": [
    "shortest_path = nx.shortest_path(graph, 0,2)"
   ]
  },
  {
   "cell_type": "code",
   "execution_count": 76,
   "id": "0afa4f50",
   "metadata": {},
   "outputs": [
    {
     "data": {
      "text/plain": [
       "[0, 10445.0, 2671.0, 2669.0, 10401.0, 2676.0, 2]"
      ]
     },
     "execution_count": 76,
     "metadata": {},
     "output_type": "execute_result"
    }
   ],
   "source": [
    "nx.shortest_path(graph, 0,2)"
   ]
  },
  {
   "cell_type": "code",
   "execution_count": 83,
   "id": "1a21e55f",
   "metadata": {},
   "outputs": [
    {
     "name": "stdout",
     "output_type": "stream",
     "text": [
      "The actual distance between node 0 and node 2 is: 565.2582942952082\n"
     ]
    }
   ],
   "source": [
    "# Retrieve the actual distance between the nodes\n",
    "actual_distance = sum(graph.get_edge_data(u, v)['weight'] for u, v in zip(shortest_path, shortest_path[1:]))\n",
    "\n",
    "print(f\"The actual distance between node {0} and node {2} is: {actual_distance}\")"
   ]
  },
  {
   "cell_type": "code",
   "execution_count": 112,
   "id": "6549f1c1",
   "metadata": {},
   "outputs": [],
   "source": [
    "import torch\n",
    "import random\n",
    "import math\n",
    "from torch.utils.data import Dataset\n",
    "\n",
    "total_nodes = 16080\n",
    "\n",
    "Lambda = 0.025 # request rate per min\n",
    "dod = 0.5\n",
    "horizon = 400\n",
    "fDmean = 10\n",
    "fDstd = 2.5\n",
    "batch_size = 2\n",
    "\n",
    "# static customer counts V = Lambda*horizon*(1-dod)/(dod+0.5)\n",
    "V_static = int(Lambda*horizon*(1-dod)/(dod)+0.5)\n",
    "\n",
    "# total customer count\n",
    "V = int(Lambda*horizon/(dod) + 0.5)\n",
    "\n",
    "gen = random.Random()\n",
    "gen.seed() # uses the default system seed\n",
    "unifDist = gen.random # uniform distribution\n",
    "durDist = lambda: max(0.01, gen.gauss(fDmean, fDstd)) # normal distribution with fDmean and fDstd"
   ]
  },
  {
   "cell_type": "code",
   "execution_count": 111,
   "id": "11c13e31",
   "metadata": {},
   "outputs": [
    {
     "data": {
      "text/html": [
       "<div>\n",
       "<style scoped>\n",
       "    .dataframe tbody tr th:only-of-type {\n",
       "        vertical-align: middle;\n",
       "    }\n",
       "\n",
       "    .dataframe tbody tr th {\n",
       "        vertical-align: top;\n",
       "    }\n",
       "\n",
       "    .dataframe thead th {\n",
       "        text-align: right;\n",
       "    }\n",
       "</style>\n",
       "<table border=\"1\" class=\"dataframe\">\n",
       "  <thead>\n",
       "    <tr style=\"text-align: right;\">\n",
       "      <th></th>\n",
       "      <th>nodes</th>\n",
       "      <th>x</th>\n",
       "      <th>y</th>\n",
       "    </tr>\n",
       "  </thead>\n",
       "  <tbody>\n",
       "    <tr>\n",
       "      <th>0</th>\n",
       "      <td>0</td>\n",
       "      <td>0.841400</td>\n",
       "      <td>0.285538</td>\n",
       "    </tr>\n",
       "    <tr>\n",
       "      <th>1</th>\n",
       "      <td>1</td>\n",
       "      <td>0.841368</td>\n",
       "      <td>0.285464</td>\n",
       "    </tr>\n",
       "    <tr>\n",
       "      <th>2</th>\n",
       "      <td>2</td>\n",
       "      <td>0.841383</td>\n",
       "      <td>0.285455</td>\n",
       "    </tr>\n",
       "    <tr>\n",
       "      <th>3</th>\n",
       "      <td>3</td>\n",
       "      <td>0.841495</td>\n",
       "      <td>0.285523</td>\n",
       "    </tr>\n",
       "    <tr>\n",
       "      <th>4</th>\n",
       "      <td>4</td>\n",
       "      <td>0.841500</td>\n",
       "      <td>0.285506</td>\n",
       "    </tr>\n",
       "  </tbody>\n",
       "</table>\n",
       "</div>"
      ],
      "text/plain": [
       "   nodes         x         y\n",
       "0      0  0.841400  0.285538\n",
       "1      1  0.841368  0.285464\n",
       "2      2  0.841383  0.285455\n",
       "3      3  0.841495  0.285523\n",
       "4      4  0.841500  0.285506"
      ]
     },
     "execution_count": 111,
     "metadata": {},
     "output_type": "execute_result"
    }
   ],
   "source": [
    "nodes.head()"
   ]
  },
  {
   "cell_type": "code",
   "execution_count": 134,
   "id": "7a098658",
   "metadata": {},
   "outputs": [
    {
     "data": {
      "text/plain": [
       "9016"
      ]
     },
     "execution_count": 134,
     "metadata": {},
     "output_type": "execute_result"
    }
   ],
   "source": [
    "random.randint(0,total_nodes-1)"
   ]
  },
  {
   "cell_type": "code",
   "execution_count": 137,
   "id": "9f429a4e",
   "metadata": {},
   "outputs": [],
   "source": [
    "data = torch.randint(*(0,total_nodes-1), (2,10))"
   ]
  },
  {
   "cell_type": "code",
   "execution_count": 143,
   "id": "559cb8a6",
   "metadata": {},
   "outputs": [
    {
     "data": {
      "text/plain": [
       "tensor([[10780, 11080,  6390,  8680, 14880,   163,  6310,  7430, 13921, 11645],\n",
       "        [ 3417,  6824,  6631, 12260,  2328,  7088,  3127, 13745,  7779, 11747]])"
      ]
     },
     "execution_count": 143,
     "metadata": {},
     "output_type": "execute_result"
    }
   ],
   "source": [
    "data"
   ]
  },
  {
   "cell_type": "code",
   "execution_count": 146,
   "id": "547e3199",
   "metadata": {},
   "outputs": [
    {
     "data": {
      "text/html": [
       "<div>\n",
       "<style scoped>\n",
       "    .dataframe tbody tr th:only-of-type {\n",
       "        vertical-align: middle;\n",
       "    }\n",
       "\n",
       "    .dataframe tbody tr th {\n",
       "        vertical-align: top;\n",
       "    }\n",
       "\n",
       "    .dataframe thead th {\n",
       "        text-align: right;\n",
       "    }\n",
       "</style>\n",
       "<table border=\"1\" class=\"dataframe\">\n",
       "  <thead>\n",
       "    <tr style=\"text-align: right;\">\n",
       "      <th></th>\n",
       "      <th>id</th>\n",
       "      <th>lats</th>\n",
       "      <th>lons</th>\n",
       "      <th>xcoords</th>\n",
       "      <th>ycoords</th>\n",
       "    </tr>\n",
       "  </thead>\n",
       "  <tbody>\n",
       "    <tr>\n",
       "      <th>0</th>\n",
       "      <td>0</td>\n",
       "      <td>0.841400</td>\n",
       "      <td>0.285538</td>\n",
       "      <td>131.099240</td>\n",
       "      <td>9.996953</td>\n",
       "    </tr>\n",
       "    <tr>\n",
       "      <th>1</th>\n",
       "      <td>1</td>\n",
       "      <td>0.841368</td>\n",
       "      <td>0.285464</td>\n",
       "      <td>129.854728</td>\n",
       "      <td>9.200211</td>\n",
       "    </tr>\n",
       "    <tr>\n",
       "      <th>2</th>\n",
       "      <td>2</td>\n",
       "      <td>0.841383</td>\n",
       "      <td>0.285455</td>\n",
       "      <td>129.714953</td>\n",
       "      <td>9.576067</td>\n",
       "    </tr>\n",
       "    <tr>\n",
       "      <th>3</th>\n",
       "      <td>3</td>\n",
       "      <td>0.841495</td>\n",
       "      <td>0.285523</td>\n",
       "      <td>130.844197</td>\n",
       "      <td>12.366543</td>\n",
       "    </tr>\n",
       "    <tr>\n",
       "      <th>4</th>\n",
       "      <td>4</td>\n",
       "      <td>0.841500</td>\n",
       "      <td>0.285506</td>\n",
       "      <td>130.555200</td>\n",
       "      <td>12.510271</td>\n",
       "    </tr>\n",
       "  </tbody>\n",
       "</table>\n",
       "</div>"
      ],
      "text/plain": [
       "   id      lats      lons     xcoords    ycoords\n",
       "0   0  0.841400  0.285538  131.099240   9.996953\n",
       "1   1  0.841368  0.285464  129.854728   9.200211\n",
       "2   2  0.841383  0.285455  129.714953   9.576067\n",
       "3   3  0.841495  0.285523  130.844197  12.366543\n",
       "4   4  0.841500  0.285506  130.555200  12.510271"
      ]
     },
     "execution_count": 146,
     "metadata": {},
     "output_type": "execute_result"
    }
   ],
   "source": [
    "data_vienna = pd.read_csv('vienna_cordinates.csv')\n",
    "data_vienna.head()"
   ]
  },
  {
   "cell_type": "code",
   "execution_count": 147,
   "id": "cd9e5214",
   "metadata": {},
   "outputs": [
    {
     "data": {
      "text/plain": [
       "<torch._C.Generator at 0x148791d90>"
      ]
     },
     "execution_count": 147,
     "metadata": {},
     "output_type": "execute_result"
    }
   ],
   "source": [
    "import torch\n",
    "# Set random seed for reproducibility\n",
    "torch.manual_seed(42)"
   ]
  },
  {
   "cell_type": "code",
   "execution_count": 166,
   "id": "ee1f137c",
   "metadata": {},
   "outputs": [
    {
     "name": "stdout",
     "output_type": "stream",
     "text": [
      "tensor([ 2847, 13261,  5751,  3814,  5597,  9223,  7959, 11012, 11201,  2125])\n",
      "      id      lats      lons     xcoords    ycoords\n",
      "0   2847  0.841241  0.284983  121.844750   6.025849\n",
      "1  13261  0.841971  0.286685  150.197668  24.283084\n",
      "2   5751  0.841627  0.284796  118.736276  15.676735\n",
      "3   3814  0.841103  0.286038  139.419466   2.565909\n",
      "4   5597  0.840694  0.284701  117.152938  -7.641169\n",
      "5   9223  0.840164  0.283525   97.568584 -20.904668\n",
      "6   7959  0.841750  0.286518  147.410605  18.753401\n",
      "7  11012  0.840816  0.284098  107.109919  -4.612412\n",
      "8  11201  0.840453  0.284864  119.862874 -13.678525\n",
      "9   2125  0.842553  0.287506  163.883258  38.826782\n",
      "tensor([11759, 12766, 15187, 11807, 14912,  4933, 11235, 13331,  7842,  8449])\n",
      "      id      lats      lons     xcoords    ycoords\n",
      "0  11759  0.840402  0.284952  121.330741 -14.947074\n",
      "1  12766  0.841625  0.286323  144.169246  15.635152\n",
      "2  15187  0.842325  0.286710  150.619521  33.136921\n",
      "3  11807  0.840150  0.286360  144.788638 -21.239684\n",
      "4  14912  0.841693  0.286129  140.941230  17.323540\n",
      "5   4933  0.841960  0.285401  128.811563  23.992574\n",
      "6  11235  0.841957  0.284134  107.702363  23.927953\n",
      "7  13331  0.841045  0.286036  139.388127   1.121518\n",
      "8   7842  0.841855  0.284685  116.893884  21.385969\n",
      "9   8449  0.840534  0.287537  164.395610 -11.638672\n"
     ]
    }
   ],
   "source": [
    "# Randomly select 100 nodes from the DataFrame with replacement for each batch\n",
    "batch_size = 2\n",
    "num_nodes_per_batch = 10\n",
    "num_batches = 2\n",
    "\n",
    "batched_data = []\n",
    "\n",
    "for _ in range(num_batches):\n",
    "    selected_rows = torch.multinomial(torch.tensor(data_vienna.id, dtype=torch.float), num_samples=num_nodes_per_batch, replacement=True)\n",
    "    print(selected_rows)\n",
    "    selected_data = data_vienna.loc[selected_rows].reset_index(drop=True) \n",
    "    print(selected_data)\n",
    "    batched_data.append(selected_data)"
   ]
  },
  {
   "cell_type": "code",
   "execution_count": 167,
   "id": "fbcde5b9",
   "metadata": {},
   "outputs": [],
   "source": [
    "# Create PyTorch tensors for the batched data\n",
    "batched_tensors = []\n",
    "for batch_data in batched_data:\n",
    "    id_tensor = torch.tensor(batch_data['id'].values, dtype=torch.long)\n",
    "    coords_tensor = torch.tensor(batch_data[['lats', 'lons', 'xcoords', 'ycoords']].values, dtype=torch.float)\n",
    "    batch_tensor = torch.cat((id_tensor.unsqueeze(1), coords_tensor), dim=1)\n",
    "    batched_tensors.append(batch_tensor)"
   ]
  },
  {
   "cell_type": "code",
   "execution_count": 170,
   "id": "13dbc215",
   "metadata": {},
   "outputs": [
    {
     "data": {
      "text/plain": [
       "[tensor([[ 2.8470e+03,  8.4124e-01,  2.8498e-01,  1.2184e+02,  6.0258e+00],\n",
       "         [ 1.3261e+04,  8.4197e-01,  2.8668e-01,  1.5020e+02,  2.4283e+01],\n",
       "         [ 5.7510e+03,  8.4163e-01,  2.8480e-01,  1.1874e+02,  1.5677e+01],\n",
       "         [ 3.8140e+03,  8.4110e-01,  2.8604e-01,  1.3942e+02,  2.5659e+00],\n",
       "         [ 5.5970e+03,  8.4069e-01,  2.8470e-01,  1.1715e+02, -7.6412e+00],\n",
       "         [ 9.2230e+03,  8.4016e-01,  2.8353e-01,  9.7569e+01, -2.0905e+01],\n",
       "         [ 7.9590e+03,  8.4175e-01,  2.8652e-01,  1.4741e+02,  1.8753e+01],\n",
       "         [ 1.1012e+04,  8.4082e-01,  2.8410e-01,  1.0711e+02, -4.6124e+00],\n",
       "         [ 1.1201e+04,  8.4045e-01,  2.8486e-01,  1.1986e+02, -1.3679e+01],\n",
       "         [ 2.1250e+03,  8.4255e-01,  2.8751e-01,  1.6388e+02,  3.8827e+01]]),\n",
       " tensor([[ 1.1759e+04,  8.4040e-01,  2.8495e-01,  1.2133e+02, -1.4947e+01],\n",
       "         [ 1.2766e+04,  8.4163e-01,  2.8632e-01,  1.4417e+02,  1.5635e+01],\n",
       "         [ 1.5187e+04,  8.4233e-01,  2.8671e-01,  1.5062e+02,  3.3137e+01],\n",
       "         [ 1.1807e+04,  8.4015e-01,  2.8636e-01,  1.4479e+02, -2.1240e+01],\n",
       "         [ 1.4912e+04,  8.4169e-01,  2.8613e-01,  1.4094e+02,  1.7324e+01],\n",
       "         [ 4.9330e+03,  8.4196e-01,  2.8540e-01,  1.2881e+02,  2.3993e+01],\n",
       "         [ 1.1235e+04,  8.4196e-01,  2.8413e-01,  1.0770e+02,  2.3928e+01],\n",
       "         [ 1.3331e+04,  8.4104e-01,  2.8604e-01,  1.3939e+02,  1.1215e+00],\n",
       "         [ 7.8420e+03,  8.4186e-01,  2.8469e-01,  1.1689e+02,  2.1386e+01],\n",
       "         [ 8.4490e+03,  8.4053e-01,  2.8754e-01,  1.6440e+02, -1.1639e+01]])]"
      ]
     },
     "execution_count": 170,
     "metadata": {},
     "output_type": "execute_result"
    }
   ],
   "source": [
    "batched_tensors"
   ]
  },
  {
   "cell_type": "code",
   "execution_count": 171,
   "id": "dd4fc2b5",
   "metadata": {},
   "outputs": [
    {
     "data": {
      "text/plain": [
       "333.3333333333333"
      ]
     },
     "execution_count": 171,
     "metadata": {},
     "output_type": "execute_result"
    }
   ],
   "source": [
    "20*1000/60"
   ]
  },
  {
   "cell_type": "markdown",
   "id": "7ec3e9db",
   "metadata": {},
   "source": [
    "## DVRPSR Environment:\n"
   ]
  },
  {
   "cell_type": "code",
   "execution_count": null,
   "id": "68eae061",
   "metadata": {},
   "outputs": [],
   "source": [
    "import torch\n",
    "\n",
    "\n",
    "class DVRPSR_Environment:\n",
    "    vehicle_feature = 4  # vehicle coordinates (x_i, y_i), Vehicle_budget_capacity, travel_time\n",
    "    customer_feature = 4\n",
    "\n",
    "    # TODO: change pending cost for rewards\n",
    "\n",
    "    def __init__(self, data, nodes=None, customer_mask=None, pending_cost=1, dynamic_reward=0.2):\n",
    "\n",
    "        self.vehicle_count = data.vehicle_count\n",
    "        self.vehicle_speed = data.vehicle_speed\n",
    "        self.vehicle_budget = data.vehicle_time_budget\n",
    "\n",
    "        self.nodes = data.nodes if nodes is None else nodes\n",
    "        self.edges_index = data.edges_index\n",
    "        self.edges_attributes = data.edges_attributes\n",
    "        \n",
    "        self.init_cust_mask = data.cust_mask if cust_mask is None else cust_mask\n",
    "\n",
    "        self.minibatch, self.nodes_count, _ = self.nodes.size()\n",
    "        self.pending_cost = pending_cost\n",
    "        self.dynamic_reward = dynamic_reward\n",
    "\n",
    "    def _update_vehicles(self, dest, tau=0):\n",
    "\n",
    "        # calculate travel time\n",
    "        # TODO: 1) in real world setting we need to calculate the distance of arc\n",
    "        # If nodes i and j are directly connected by a road segment (i, j) ∈ A, then t(i,j)=t_ij;\n",
    "        # otherwise, t(i,j)=t_ik1 +t_k1k2 +...+t_knj, where k1,...,kn ∈ V are the nodes along the\n",
    "        # shortest path from node i to node j.\n",
    "        #      2) calculate stating time for each vehicle $\\tau $, currently is set to zero\n",
    "        \n",
    "        dist = torch.pairwise_distance(self.cur_veh[:, 0, :2], dest[:, 0, :2], keepdim=True)\n",
    "        tt = dist / self.veh_speed\n",
    "\n",
    "        dyn_cust = (dest[:, :, 3] > 0).float()\n",
    "\n",
    "        # budget left while travelling to destination nodes\n",
    "        budget = tau + tt + dest[:, :, 2]\n",
    "        # print(budget, tau, tt, dest[:,:,2])\n",
    "\n",
    "        # update vehicle features based on destination nodes\n",
    "        self.cur_veh[:, :, :2] = dest[:, :, :2]\n",
    "        self.cur_veh[:, :, 2] -= budget\n",
    "        self.cur_veh[:, :, 3] += tt\n",
    "\n",
    "        # update vehicles states\n",
    "        self.vehicles = self.vehicles.scatter(1,\n",
    "                                              self.cur_veh_idx[:, :, None].expand(-1, -1, self.veh_feature),\n",
    "                                              self.cur_veh)\n",
    "\n",
    "        return dist, dyn_cust\n",
    "\n",
    "    def _update_done(self, cust_idx):\n",
    "        self.veh_done.scatter_(1, self.cur_veh_idx, torch.logical_or((cust_idx == 0), (self.cur_veh[:, :, 2] <= 0)))\n",
    "        # print(self.veh_done, cust_idx==0,self.cur_veh[:,:,2]<=0, (cust_idx==0) | (self.cur_veh[:,:,2]<=0))\n",
    "        self.done = bool(self.veh_done.all())\n",
    "\n",
    "    def _update_mask(self, cust_idx):\n",
    "\n",
    "        self.new_customer = False\n",
    "        self.served.scatter_(1, cust_idx, cust_idx > 0)\n",
    "\n",
    "        # cost for a vehicle to go to customer and back to deport considering service duration\n",
    "        cost = torch.pairwise_distance(self.cur_veh[:, :, :2], self.nodes[:, :, :2], keepdim=False) + \\\n",
    "               torch.pairwise_distance(self.nodes[:, None, 0, :2], self.nodes[:, :, :2], keepdim=False)\n",
    "        cost = cost / self.veh_speed\n",
    "\n",
    "        cost += self.nodes[:, :, 2]\n",
    "\n",
    "        overtime_mask = self.cur_veh[:, :, 2] - cost\n",
    "        overtime_mask = overtime_mask.unsqueeze(1)\n",
    "        overtime = torch.zeros_like(self.mask).scatter_(1,\n",
    "                                                        self.cur_veh_idx[:, :, None].expand(-1, -1, self.nodes_count),\n",
    "                                                        overtime_mask < 0)\n",
    "\n",
    "        self.mask = self.mask | self.served[:, None, :] | overtime | self.veh_done[:, :, None]\n",
    "        self.mask[:, :, 0] = 0  # depot\n",
    "\n",
    "    # updating current vehicle to find the next available vehicle\n",
    "    def _update_cur_veh(self):\n",
    "        avail = self.vehicles[:, :, 3].clone()\n",
    "        avail[self.veh_done] = float('inf')\n",
    "\n",
    "        self.cur_veh_idx = avail.argmin(1, keepdim=True)\n",
    "        self.cur_veh = self.vehicles.gather(1, self.cur_veh_idx[:, :, None].expand(-1, -1, self.veh_feature))\n",
    "        self.cur_veh_mask = self.mask.gather(1, self.cur_veh_idx[:, :, None].expand(-1, -1, self.nodes_count))\n",
    "\n",
    "    def _update_hidden(self):\n",
    "\n",
    "        time = self.cur_veh[:, :, 3].clone()\n",
    "\n",
    "        if self.init_cust_mask is None:\n",
    "            reveal_dyn_reqs = torch.logical_and((self.cust_mask), (self.nodes[:, :, 3] <= time))\n",
    "        else:\n",
    "            reveal_dyn_reqs = torch.logical_and((self.cust_mask ^ self.init_cust_mask), (self.nodes[:, :, 3] <= time))\n",
    "\n",
    "        if reveal_dyn_reqs.any():\n",
    "            self.new_customer = True\n",
    "            self.cust_mask = self.cust_mask ^ reveal_dyn_reqs\n",
    "            self.mask = self.mask ^ reveal_dyn_reqs[:, None, :].expand(-1, self.veh_count, -1)\n",
    "            self.veh_done = torch.logical_and(self.veh_done, (reveal_dyn_reqs.any(1) ^ True).unsqueeze(1))\n",
    "            self.vehicles[:, :, 3] = torch.max(self.vehicles[:, :, 3], time)\n",
    "            self._update_cur_veh()\n",
    "\n",
    "    def reset(self):\n",
    "        # reset vehicle (minibatch*veh_count*veh_feature)\n",
    "        self.vehicles = self.nodes.new_zeros((self.minibatch, self.veh_count, self.veh_feature))\n",
    "        self.vehicles[:, :, :2] = self.nodes[:, :1, :2]\n",
    "        self.vehicles[:, :, 2] = self.veh_budget\n",
    "\n",
    "        # reset vehicle done\n",
    "        self.veh_done = self.nodes.new_zeros((self.minibatch, self.veh_count), dtype=torch.bool)\n",
    "        self.done = False\n",
    "\n",
    "        # reset cust_mask\n",
    "        self.cust_mask = self.nodes[:, :, 3] > 0\n",
    "        if self.init_cust_mask is not None:\n",
    "            self.cust_mask = self.cust_mask | self.init_cust_mask\n",
    "\n",
    "        # reset new customers and served customer since now to zero (all false)\n",
    "        self.new_customer = True\n",
    "        self.served = torch.zeros_like(self.cust_mask)\n",
    "\n",
    "        # reset mask (minibatch*veh_count*nodes)\n",
    "        self.mask = self.cust_mask[:, None, :].repeat(1, self.veh_count, 1)\n",
    "\n",
    "        # reset current vehicle idx, current vehicle, current vehicle mask\n",
    "        self.cur_veh_idx = self.nodes.new_zeros((self.minibatch, 1), dtype=torch.int64)\n",
    "        self.cur_veh = self.vehicles.gather(1, self.cur_veh_idx[:, :, None].expand(-1, -1, self.veh_feature))\n",
    "        self.cur_veh_mask = self.mask.gather(1, self.cur_veh_idx[:, :, None].expand(-1, -1, self.nodes_count))\n",
    "\n",
    "    def step(self, cust_idx):\n",
    "        dest = self.nodes.gather(1, cust_idx[:, :, None].expand(-1, -1, self.cust_feature))\n",
    "        dist, dyn_cust = self._update_vehicles(dest)\n",
    "\n",
    "        #cust = (dest[:, :, 3] >= 0).float()\n",
    "\n",
    "        self._update_done(cust_idx)\n",
    "        self._update_mask(cust_idx)\n",
    "        self._update_cur_veh()\n",
    "\n",
    "        #reward = -dist * (1 - dyn_cust*self.dynamic_reward)\n",
    "        reward = -dist + self.dynamic_reward*dyn_cust\n",
    "        pending_static_cust = torch.logical_and((self.served ^ True), (self.nodes[:, :, 3] == 0)).float().sum(-1,keepdim=True) - 1\n",
    "        reward -= self.pending_cost*pending_static_cust\n",
    "\n",
    "        if self.done:\n",
    "\n",
    "            if self.init_cust_mask is not None:\n",
    "                self.served += self.init_cust_mask\n",
    "            pending_cust = torch.logical_and((self.served ^ True), (self.nodes[:, :, 3] >= 0)).float().sum(-1, keepdim=True) - 1\n",
    "            reward -= self.dynamic_reward*pending_cust\n",
    "\n",
    "        self._update_hidden()\n",
    "\n",
    "        return reward\n",
    "\n",
    "    def state_dict(self, dest_dict=None):\n",
    "        if dest_dict is None:\n",
    "            dest_dict = {'vehicles': self.vehicles,\n",
    "                         'veh_done': self.veh_done,\n",
    "                         'served': self.served,\n",
    "                         'mask': self.mask,\n",
    "                         'cur_veh_idx': self.cur_veh_idx}\n",
    "\n",
    "        else:\n",
    "            dest_dict[\"vehicles\"].copy_(self.vehicles)\n",
    "            dest_dict[\"veh_done\"].copy_(self.veh_done)\n",
    "            dest_dict[\"served\"].copy_(self.served)\n",
    "            dest_dict[\"mask\"].copy_(self.mask)\n",
    "            dest_dict[\"cur_veh_idx\"].copy_(self.cur_veh_idx)\n",
    "\n",
    "        return dest_dict\n",
    "\n",
    "    def load_state_dict(self, state_dict):\n",
    "        self.vehicles.copy_(state_dict[\"vehicles\"])\n",
    "        self.veh_done.copy_(state_dict[\"veh_done\"])\n",
    "        self.served.copy_(state_dict[\"served\"])\n",
    "        self.mask.copy_(state_dict[\"mask\"])\n",
    "        self.cur_veh_idx.copy_(state_dict[\"cur_veh_idx\"])\n",
    "\n",
    "        self.cur_veh = self.vehicles.gather(1, self.cur_veh_idx[:, :, None].expand(-1, -1, self.veh_feature))\n",
    "        self.cur_veh_mask = self.mask.gather(1, self.cur_veh_idx[:, :, None].expand(-1, -1, self.cust_feature))\n",
    "\n",
    "\n"
   ]
  },
  {
   "cell_type": "code",
   "execution_count": null,
   "id": "2905ba9d",
   "metadata": {},
   "outputs": [],
   "source": []
  },
  {
   "cell_type": "code",
   "execution_count": null,
   "id": "9efdd8fc",
   "metadata": {},
   "outputs": [],
   "source": []
  },
  {
   "cell_type": "code",
   "execution_count": null,
   "id": "d96293d9",
   "metadata": {},
   "outputs": [],
   "source": []
  },
  {
   "cell_type": "code",
   "execution_count": null,
   "id": "8924649a",
   "metadata": {},
   "outputs": [],
   "source": []
  },
  {
   "cell_type": "code",
   "execution_count": null,
   "id": "5dbf6e22",
   "metadata": {},
   "outputs": [],
   "source": []
  },
  {
   "cell_type": "code",
   "execution_count": null,
   "id": "b23f8e32",
   "metadata": {},
   "outputs": [],
   "source": []
  },
  {
   "cell_type": "code",
   "execution_count": null,
   "id": "4bff6ef2",
   "metadata": {},
   "outputs": [],
   "source": []
  },
  {
   "cell_type": "code",
   "execution_count": null,
   "id": "e198eac3",
   "metadata": {},
   "outputs": [],
   "source": []
  },
  {
   "cell_type": "code",
   "execution_count": null,
   "id": "4ae91409",
   "metadata": {},
   "outputs": [],
   "source": []
  },
  {
   "cell_type": "code",
   "execution_count": null,
   "id": "e28ef23f",
   "metadata": {},
   "outputs": [],
   "source": []
  },
  {
   "cell_type": "code",
   "execution_count": null,
   "id": "7995d07b",
   "metadata": {},
   "outputs": [],
   "source": []
  },
  {
   "cell_type": "code",
   "execution_count": null,
   "id": "5c94a6ff",
   "metadata": {},
   "outputs": [],
   "source": []
  },
  {
   "cell_type": "code",
   "execution_count": null,
   "id": "86995834",
   "metadata": {},
   "outputs": [],
   "source": []
  },
  {
   "cell_type": "code",
   "execution_count": null,
   "id": "e74988e1",
   "metadata": {},
   "outputs": [],
   "source": []
  },
  {
   "cell_type": "code",
   "execution_count": null,
   "id": "87415fd9",
   "metadata": {},
   "outputs": [],
   "source": []
  },
  {
   "cell_type": "code",
   "execution_count": null,
   "id": "e47c443d",
   "metadata": {},
   "outputs": [],
   "source": []
  },
  {
   "cell_type": "code",
   "execution_count": null,
   "id": "e9bb48e6",
   "metadata": {},
   "outputs": [],
   "source": []
  },
  {
   "cell_type": "code",
   "execution_count": null,
   "id": "c98af1be",
   "metadata": {},
   "outputs": [],
   "source": []
  },
  {
   "cell_type": "code",
   "execution_count": null,
   "id": "75a48bf6",
   "metadata": {},
   "outputs": [],
   "source": []
  },
  {
   "cell_type": "code",
   "execution_count": null,
   "id": "a556ae8d",
   "metadata": {},
   "outputs": [],
   "source": []
  },
  {
   "cell_type": "code",
   "execution_count": null,
   "id": "0d95dced",
   "metadata": {},
   "outputs": [],
   "source": []
  },
  {
   "cell_type": "code",
   "execution_count": null,
   "id": "eed373f2",
   "metadata": {},
   "outputs": [],
   "source": []
  },
  {
   "cell_type": "code",
   "execution_count": null,
   "id": "78f393d5",
   "metadata": {},
   "outputs": [],
   "source": []
  },
  {
   "cell_type": "code",
   "execution_count": null,
   "id": "76828a73",
   "metadata": {},
   "outputs": [],
   "source": []
  },
  {
   "cell_type": "code",
   "execution_count": null,
   "id": "5857a56d",
   "metadata": {},
   "outputs": [],
   "source": []
  },
  {
   "cell_type": "code",
   "execution_count": null,
   "id": "c5163a49",
   "metadata": {},
   "outputs": [],
   "source": []
  },
  {
   "cell_type": "code",
   "execution_count": null,
   "id": "aa6ad1d8",
   "metadata": {},
   "outputs": [],
   "source": []
  },
  {
   "cell_type": "code",
   "execution_count": null,
   "id": "cdb474c0",
   "metadata": {},
   "outputs": [],
   "source": []
  },
  {
   "cell_type": "code",
   "execution_count": null,
   "id": "a8996690",
   "metadata": {},
   "outputs": [],
   "source": []
  },
  {
   "cell_type": "code",
   "execution_count": null,
   "id": "84ef0095",
   "metadata": {},
   "outputs": [],
   "source": []
  },
  {
   "cell_type": "code",
   "execution_count": null,
   "id": "9bcfc917",
   "metadata": {},
   "outputs": [],
   "source": []
  }
 ],
 "metadata": {
  "kernelspec": {
   "display_name": "Python 3 (ipykernel)",
   "language": "python",
   "name": "python3"
  },
  "language_info": {
   "codemirror_mode": {
    "name": "ipython",
    "version": 3
   },
   "file_extension": ".py",
   "mimetype": "text/x-python",
   "name": "python",
   "nbconvert_exporter": "python",
   "pygments_lexer": "ipython3",
   "version": "3.10.9"
  }
 },
 "nbformat": 4,
 "nbformat_minor": 5
}
